{
  "nbformat": 4,
  "nbformat_minor": 0,
  "metadata": {
    "colab": {
      "provenance": []
    },
    "kernelspec": {
      "name": "python3",
      "display_name": "Python 3"
    },
    "language_info": {
      "name": "python"
    }
  },
  "cells": [
    {
      "cell_type": "code",
      "execution_count": 1,
      "metadata": {
        "id": "aYRKC8GhWOmB"
      },
      "outputs": [],
      "source": [
        "import pandas as pd"
      ]
    },
    {
      "cell_type": "code",
      "source": [
        "d=pd.read_csv('/content/aiml lab1.csv')\n",
        "print(d)"
      ],
      "metadata": {
        "colab": {
          "base_uri": "https://localhost:8080/"
        },
        "id": "afh0Y1xFQeXU",
        "outputId": "9d7281db-2d3d-4da1-cc67-3f5889a62449"
      },
      "execution_count": 4,
      "outputs": [
        {
          "output_type": "stream",
          "name": "stdout",
          "text": [
            "    Age Gender  ID  Unnamed: 3  Unnamed: 4  Unnamed: 5  Unnamed: 6  \\\n",
            "0    40      M   1         NaN         NaN         NaN         NaN   \n",
            "1    49      F   2         NaN         NaN         NaN         NaN   \n",
            "2    37      M   3         NaN         NaN         NaN         NaN   \n",
            "3    48      F   4         NaN         NaN         NaN         NaN   \n",
            "4    54      M   5         NaN         NaN         NaN         NaN   \n",
            "5    39      M   6         NaN         NaN         NaN         NaN   \n",
            "6    45      F   7         NaN         NaN         NaN         NaN   \n",
            "7    54      M   8         NaN         NaN         NaN         NaN   \n",
            "8    37      M   9         NaN         NaN         NaN         NaN   \n",
            "9    48      F  10         NaN         NaN         NaN         NaN   \n",
            "10   37      F  11         NaN         NaN         NaN         NaN   \n",
            "11   58      M  12         NaN         NaN         NaN         NaN   \n",
            "12   39      M  13         NaN         NaN         NaN         NaN   \n",
            "13   49      M  14         NaN         NaN         NaN         NaN   \n",
            "\n",
            "    Unnamed: 7  Unnamed: 8  Unnamed: 9  ...  Unnamed: 991  Unnamed: 992  \\\n",
            "0          NaN         NaN         NaN  ...           NaN           NaN   \n",
            "1          NaN         NaN         NaN  ...           NaN           NaN   \n",
            "2          NaN         NaN         NaN  ...           NaN           NaN   \n",
            "3          NaN         NaN         NaN  ...           NaN           NaN   \n",
            "4          NaN         NaN         NaN  ...           NaN           NaN   \n",
            "5          NaN         NaN         NaN  ...           NaN           NaN   \n",
            "6          NaN         NaN         NaN  ...           NaN           NaN   \n",
            "7          NaN         NaN         NaN  ...           NaN           NaN   \n",
            "8          NaN         NaN         NaN  ...           NaN           NaN   \n",
            "9          NaN         NaN         NaN  ...           NaN           NaN   \n",
            "10         NaN         NaN         NaN  ...           NaN           NaN   \n",
            "11         NaN         NaN         NaN  ...           NaN           NaN   \n",
            "12         NaN         NaN         NaN  ...           NaN           NaN   \n",
            "13         NaN         NaN         NaN  ...           NaN           NaN   \n",
            "\n",
            "    Unnamed: 993  Unnamed: 994  Unnamed: 995  Unnamed: 996  Unnamed: 997  \\\n",
            "0            NaN           NaN           NaN           NaN           NaN   \n",
            "1            NaN           NaN           NaN           NaN           NaN   \n",
            "2            NaN           NaN           NaN           NaN           NaN   \n",
            "3            NaN           NaN           NaN           NaN           NaN   \n",
            "4            NaN           NaN           NaN           NaN           NaN   \n",
            "5            NaN           NaN           NaN           NaN           NaN   \n",
            "6            NaN           NaN           NaN           NaN           NaN   \n",
            "7            NaN           NaN           NaN           NaN           NaN   \n",
            "8            NaN           NaN           NaN           NaN           NaN   \n",
            "9            NaN           NaN           NaN           NaN           NaN   \n",
            "10           NaN           NaN           NaN           NaN           NaN   \n",
            "11           NaN           NaN           NaN           NaN           NaN   \n",
            "12           NaN           NaN           NaN           NaN           NaN   \n",
            "13           NaN           NaN           NaN           NaN           NaN   \n",
            "\n",
            "    Unnamed: 998  Unnamed: 999  Unnamed: 1000  \n",
            "0            NaN           NaN            NaN  \n",
            "1            NaN           NaN            NaN  \n",
            "2            NaN           NaN            NaN  \n",
            "3            NaN           NaN            NaN  \n",
            "4            NaN           NaN            NaN  \n",
            "5            NaN           NaN            NaN  \n",
            "6            NaN           NaN            NaN  \n",
            "7            NaN           NaN            NaN  \n",
            "8            NaN           NaN            NaN  \n",
            "9            NaN           NaN            NaN  \n",
            "10           NaN           NaN            NaN  \n",
            "11           NaN           NaN            NaN  \n",
            "12           NaN           NaN            NaN  \n",
            "13           NaN           NaN            NaN  \n",
            "\n",
            "[14 rows x 1001 columns]\n"
          ]
        }
      ]
    },
    {
      "cell_type": "code",
      "source": [
        "g=pd.read_csv('/content/aiml lab1 (1).tsv')\n",
        "print(g)"
      ],
      "metadata": {
        "colab": {
          "base_uri": "https://localhost:8080/"
        },
        "id": "D76A1UQdRY57",
        "outputId": "c4fde04a-e936-42e0-e795-618fbccbb0e7"
      },
      "execution_count": 5,
      "outputs": [
        {
          "output_type": "stream",
          "name": "stdout",
          "text": [
            "   Age\\tGender\\tID\n",
            "0         40\\tM\\t1\n",
            "1         49\\tF\\t2\n",
            "2         37\\tM\\t3\n",
            "3         48\\tF\\t4\n",
            "4         54\\tM\\t5\n",
            "5         39\\tM\\t6\n",
            "6         45\\tF\\t7\n",
            "7         54\\tM\\t8\n",
            "8         37\\tM\\t9\n",
            "9        48\\tF\\t10\n",
            "10       37\\tF\\t11\n",
            "11       58\\tM\\t12\n",
            "12       39\\tM\\t13\n",
            "13       49\\tM\\t14\n"
          ]
        }
      ]
    },
    {
      "cell_type": "code",
      "source": [
        "c=pd.read_excel('/content/aiml lab1 xls.xlsx')\n",
        "print(c)"
      ],
      "metadata": {
        "colab": {
          "base_uri": "https://localhost:8080/"
        },
        "id": "LGmhXBjsR5HZ",
        "outputId": "2605af65-6f94-4777-adcb-6dd3680e1724"
      },
      "execution_count": 7,
      "outputs": [
        {
          "output_type": "stream",
          "name": "stdout",
          "text": [
            "    Age Gender  ID\n",
            "0    40      M   1\n",
            "1    49      F   2\n",
            "2    37      M   3\n",
            "3    48      F   4\n",
            "4    54      M   5\n",
            "5    39      M   6\n",
            "6    45      F   7\n",
            "7    54      M   8\n",
            "8    37      M   9\n",
            "9    48      F  10\n",
            "10   37      F  11\n",
            "11   58      M  12\n",
            "12   39      M  13\n",
            "13   49      M  14\n"
          ]
        }
      ]
    },
    {
      "cell_type": "code",
      "source": [
        "import requests\n",
        "\n",
        "url = requests\n",
        "\n",
        "url = \"https://docs.google.com/spreadsheets/d/1Nbcmn7IXQP2h9n4ce7Rb8fe0JODpWzMM/edit?usp=drive_link&ouid=106843816191285382637&rtpof=true&sd=true\"\n",
        "response = requests.get(url)\n",
        "\n",
        "if response.status_code == 200:\n",
        "    text_content = response.text\n",
        "    print(text_content)\n",
        "else:\n",
        "    print(f\"Failed to retrieve content. Status code: {response.status_code}\")\n",
        "response = requests.get(url)\n",
        "\n",
        "if response.status_code == 200:\n",
        "    text_content = response.text\n",
        "    print(text_content)\n",
        "else:\n",
        "    print(f\"Failed to retrieve content. Status code: {response.status_code}\")"
      ],
      "metadata": {
        "id": "wp_6FjHqMjJQ",
        "colab": {
          "base_uri": "https://localhost:8080/"
        },
        "outputId": "46db3af8-8dc3-4f74-a1c7-a1c3f16533c0"
      },
      "execution_count": 11,
      "outputs": [
        {
          "output_type": "stream",
          "name": "stdout",
          "text": [
            "<!DOCTYPE html><html><head><title>Loading Google Sheets</title><meta name=\"referrer\" content=\"origin\"><style nonce=\"A-ffJJuzE9CXbUOjxeBPsg\">.docs-loading-screen-icon{border:none;height:24px;margin-top:100px;width:24px;-webkit-transform-origin:center top;-ms-transform-origin:center top;transform-origin:center top;-webkit-transform:scale(4);-ms-transform:scale(4);transform:scale(4)}.docs-loading-screen-msg{font-family:Google Sans;font-size:16px;line-height:24px;text-align:center;letter-spacing:.1px;color:#3c4043}.docs-loading-screen-spinner{margin-top:90px}#apps-debug-tracers{display:none}.docs-homescreen-icon{direction:ltr;text-align:left;overflow:hidden;position:relative;vertical-align:middle}.docs-homescreen-img:before{content:url(https://ssl.gstatic.com/docs/common/h_sprite60_grey_medium.svg)}.docs-homescreen-img{height:2025px;position:absolute;width:78px}.docs-homescreen-add-white-24{left:-52px;top:-1921px}.docs-homescreen-check-18{left:-26px;top:-1869px}.docs-homescreen-comments-black-24{left:-26px;top:-1921px}.docs-homescreen-dropdown-arrow-black-18{left:-26px;top:-230px}.docs-homescreen-dropdown-arrow-24{left:-46px;top:-1869px}.docs-homescreen-dropdown-arrow-grey700-24{left:0;top:-535px}.docs-homescreen-dropdown-arrow-white-24{left:-26px;top:-747px}.docs-homescreen-expand-more-white-24{left:-52px;top:-1047px}.docs-homescreen-expand-more-24{left:0;top:-1869px}.docs-homescreen-flix-24{left:0;top:-1685px}.docs-homescreen-team-drive-20{left:-22px;top:-39px}.docs-homescreen-team-drive-outline-20{left:0;top:-1569px}.docs-homescreen-team-drive-black-24{left:-52px;top:-1617px}.docs-homescreen-team-drive-anonymous-20{left:0;top:-973px}.docs-homescreen-team-drive-anonymous-24{left:-48px;top:-1465px}.docs-homescreen-team-drive-key-icon-20{left:-52px;top:-1207px}.docs-homescreen-team-drive-key-icon-24{left:0;top:-1947px}.docs-homescreen-fab-googlecolors-24{left:-42px;top:-825px}.docs-homescreen-feedback-black-24{left:-26px;top:-635px}.docs-homescreen-file-upload-18{left:-26px;top:-272px}.docs-homescreen-folder-black-24{left:-52px;top:-1181px}.docs-homescreen-folder-white-24{left:0;top:-1229px}.docs-homescreen-folder-outline-24{left:0;top:-1491px}.docs-homescreen-gear-24{left:-26px;top:-1973px}.docs-homescreen-grid-view-24{left:0;top:-204px}.docs-homescreen-grid-view-black-24{left:0;top:-739px}.docs-homescreen-grid-view-white-24{left:-26px;top:-1517px}.docs-homescreen-help-outline-24{left:-52px;top:-587px}.docs-homescreen-item-overflow-24{left:0;top:-687px}.docs-homescreen-list-view-24{left:-48px;top:-1439px}.docs-homescreen-list-view-black-24{left:0;top:-87px}.docs-homescreen-list-view-white-24{left:-52px;top:-1413px}.docs-homescreen-magnifying-glass-24{left:-16px;top:-61px}.docs-homescreen-menu-black-24{left:0;top:-1617px}.docs-homescreen-menu-white-24{left:0;top:-256px}.docs-homescreen-2020q4-nav-docs-24{left:0;top:-1843px}.docs-homescreen-2020q4-nav-drive-24{left:-52px;top:-1517px}.docs-homescreen-2020q4-nav-forms-24{left:-52px;top:-613px}.docs-homescreen-2020q4-nav-sheets-24{left:0;top:-561px}.docs-homescreen-2020q4-nav-sites-24{left:-46px;top:-139px}.docs-homescreen-2020q4-nav-slides-24{left:-52px;top:-1843px}.docs-homescreen-2020q4-nav-mail-layouts-24{left:-52px;top:-1155px}.docs-homescreen-nav-flix-24{left:-26px;top:-799px}.docs-homescreen-nav-docs-24{left:-52px;top:-747px}.docs-homescreen-nav-drive-24{left:0;top:-587px}.docs-homescreen-nav-forms-24{left:0;top:-1413px}.docs-homescreen-nav-help-24{left:0;top:-661px}.docs-homescreen-nav-settings-24{left:-52px;top:-1947px}.docs-homescreen-nav-sheets-24{left:0;top:-1895px}.docs-homescreen-nav-sites-24{left:0;top:-230px}.docs-homescreen-nav-classic-sites-24{left:-26px;top:-1617px}.docs-homescreen-nav-classic-sites-32{left:-26px;top:-713px}.docs-homescreen-nav-slides-24{left:0;top:-635px}.docs-homescreen-people-20{left:0;top:-613px}.docs-homescreen-shared-black-24{left:-26px;top:-1895px}.docs-homescreen-sort-black-24{left:-26px;top:-609px}.docs-homescreen-sort-white-24{left:-48px;top:-1021px}.docs-homescreen-sort-roboto-24{left:0;top:-1999px}.docs-homescreen-sort-roboto-white-24{left:0;top:-1973px}.docs-homescreen-suggestions-black-24{left:0;top:-1591px}.docs-homescreen-template-24{left:-26px;top:-1047px}.docs-homescreen-todos-black-24{left:-42px;top:-61px}.docs-homescreen-sites-24{left:-52px;top:-773px}.docs-homescreen-mail-layouts-24{left:-26px;top:-687px}.docs-homescreen-docs-normal-30-37{left:0;top:-825px}.docs-homescreen-docs-hover-30-37{left:-46px;top:-298px}.docs-homescreen-forms-normal-30-37{left:-32px;top:0}.docs-homescreen-forms-hover-30-37{left:0;top:-1737px}.docs-homescreen-sheets-normal-30-37{left:0;top:-1643px}.docs-homescreen-sheets-hover-30-37{left:-46px;top:-165px}.docs-homescreen-slides-normal-30-37{left:0;top:-292px}.docs-homescreen-slides-hover-30-37{left:-46px;top:-243px}.docs-homescreen-sheets-14{left:0;top:-61px}.docs-homescreen-sheets-24{left:-26px;top:-1947px}.docs-homescreen-sheets-encrypted-24{left:-26px;top:-583px}.docs-homescreen-sheets-encrypted-64-65{left:0;top:-1776px}.docs-homescreen-slides-14{left:-46px;top:-282px}.docs-homescreen-slides-24{left:-26px;top:-1413px}.docs-homescreen-slides-encrypted-24{left:0;top:-1921px}.docs-homescreen-slides-encrypted-64-65{left:0;top:-468px}.docs-homescreen-docs-14{left:-32px;top:-1737px}.docs-homescreen-docs-24{left:0;top:-429px}.docs-homescreen-docs-encrypted-24{left:-22px;top:-1021px}.docs-homescreen-docs-encrypted-64-65{left:0;top:-906px}.docs-homescreen-forms-14{left:0;top:-1439px}.docs-homescreen-forms-24{left:-26px;top:-87px}.docs-homescreen-sites-14{left:-48px;top:-1737px}.docs-homescreen-android-logo-40{left:0;top:-864px}.docs-homescreen-apple-logo-40{left:-32px;top:-1643px}.docs-homescreen-close-24{left:-52px;top:-1973px}.docs-homescreen-close-black-20{left:-44px;top:-39px}.docs-homescreen-placeholder-sheets-64{left:0;top:-1347px}.docs-homescreen-placeholder-slides-64{left:0;top:-337px}.docs-homescreen-placeholder-docs-64{left:0;top:-1281px}.docs-homescreen-placeholder-forms-64{left:0;top:-1073px}.docs-homescreen-nav-open-add-24{left:-52px;top:-1685px}.docs-homescreen-remove-24{left:0;top:-1155px}.docs-homescreen-rename-24{left:0;top:-995px}.docs-homescreen-share-24{left:-26px;top:-1843px}.docs-homescreen-word-normal-30-37{left:-16px;top:-1439px}.docs-homescreen-word-hover-30-37{left:-46px;top:-204px}.docs-homescreen-word-14{left:-26px;top:-1229px}.docs-homescreen-word-24{left:-52px;top:-639px}.docs-homescreen-powerpoint-normal-30-37{left:-42px;top:-851px}.docs-homescreen-powerpoint-hover-30-37{left:0;top:0}.docs-homescreen-powerpoint-14{left:-26px;top:-256px}.docs-homescreen-powerpoint-24{left:-52px;top:-1591px}.docs-homescreen-excel-normal-30-37{left:-26px;top:-429px}.docs-homescreen-excel-hover-30-37{left:0;top:-139px}.docs-homescreen-excel-14{left:0;top:-1139px}.docs-homescreen-excel-24{left:0;top:-799px}.docs-homescreen-sync-24{left:-26px;top:-661px}.docs-homescreen-sync-white-24{left:0;top:-1255px}.docs-homescreen-back-24{left:0;top:-178px}.docs-homescreen-back-black-24{left:-26px;top:-1491px}.docs-homescreen-back-grey700-24{left:-26px;top:-995px}.docs-homescreen-unfold-more-24{left:-52px;top:-799px}.docs-homescreen-unfold-more-gm-24{left:-42px;top:-1229px}.docs-homescreen-pin-offline-20{left:0;top:-39px}.docs-homescreen-pin-offline-black-24{left:-52px;top:-561px}.docs-homescreen-pin-offline-blue-24{left:-26px;top:-535px}.docs-homescreen-pin-sync-problem-20{left:0;top:-1021px}.docs-homescreen-pin-sync-problem-24{left:-26px;top:-773px}.docs-homescreen-pin-sync-20{left:-26px;top:-561px}.docs-homescreen-pin-sync-black-24{left:-48px;top:-1543px}.docs-homescreen-publish-24{left:0;top:-113px}.docs-homescreen-publish-white-24{left:-26px;top:-1255px}.docs-homescreen-item-overflow-white-24{left:-26px;top:-1711px}.docs-homescreen-edit-pencil-24{left:0;top:-1047px}.docs-homescreen-edit-pencil-outline-24{left:-26px;top:-1181px}.docs-homescreen-info-black-24{left:0;top:-1711px}.docs-homescreen-delete-outline-24{left:-26px;top:-1685px}.docs-homescreen-info-outline-24{left:-46px;top:-113px}.docs-homescreen-popout-outline-24{left:0;top:-713px}.docs-homescreen-rename-gm-24{left:-26px;top:-1155px}.docs-homescreen-pin-offline-outline-20{left:-26px;top:-1543px}.docs-homescreen-pin-offline-outline-24{left:-52px;top:-1491px}.docs-homescreen-nav-google-logo{left:0;top:-403px}.docs-spinner{height:44px;overflow:hidden;position:relative}.docs-quantum-spinner{height:28px;left:50%;margin-left:-14px;position:absolute;top:0;width:28px}.docs-loading-indicator-small .docs-quantum-spinner{height:20px;margin-left:-10px;top:0;width:20px}.docs-white-circle{background:white;border-radius:50%;box-shadow:0 2px 6px rgba(0,0,0,.4);-moz-box-shadow:0 2px 6px rgba(0,0,0,.4);-webkit-box-shadow:0 2px 6px rgba(0,0,0,.4);height:44px;left:50%;margin-left:-22px;position:absolute;width:44px}.docs-quantum-spinner.active{-webkit-animation:container-rotate 1568ms linear infinite;animation:container-rotate 1568ms linear infinite}@-webkit-keyframes container-rotate{to{-webkit-transform:rotate(1turn)}}@keyframes container-rotate{to{-webkit-transform:rotate(1turn);transform:rotate(1turn)}}.spinner-layer{position:absolute;width:100%;height:100%;opacity:0}.spinner-blue{border-color:#4285f4}.spinner-red{border-color:#db4437}.spinner-yellow{border-color:#f4b400}.spinner-green{border-color:#0f9d58}.active .spinner-layer.spinner-blue{-webkit-animation:fill-unfill-rotate 5332ms cubic-bezier(.4,0,.2,1) infinite both,blue-fade-in-out 5332ms cubic-bezier(.4,0,.2,1) infinite both;animation:fill-unfill-rotate 5332ms cubic-bezier(.4,0,.2,1) infinite both,blue-fade-in-out 5332ms cubic-bezier(.4,0,.2,1) infinite both}.active .spinner-layer.spinner-red{-webkit-animation:fill-unfill-rotate 5332ms cubic-bezier(.4,0,.2,1) infinite both,red-fade-in-out 5332ms cubic-bezier(.4,0,.2,1) infinite both;animation:fill-unfill-rotate 5332ms cubic-bezier(.4,0,.2,1) infinite both,red-fade-in-out 5332ms cubic-bezier(.4,0,.2,1) infinite both}.active .spinner-layer.spinner-yellow{-webkit-animation:fill-unfill-rotate 5332ms cubic-bezier(.4,0,.2,1) infinite both,yellow-fade-in-out 5332ms cubic-bezier(.4,0,.2,1) infinite both;animation:fill-unfill-rotate 5332ms cubic-bezier(.4,0,.2,1) infinite both,yellow-fade-in-out 5332ms cubic-bezier(.4,0,.2,1) infinite both}.active .spinner-layer.spinner-green{-webkit-animation:fill-unfill-rotate 5332ms cubic-bezier(.4,0,.2,1) infinite both,green-fade-in-out 5332ms cubic-bezier(.4,0,.2,1) infinite both;animation:fill-unfill-rotate 5332ms cubic-bezier(.4,0,.2,1) infinite both,green-fade-in-out 5332ms cubic-bezier(.4,0,.2,1) infinite both}@-webkit-keyframes fill-unfill-rotate{12.5%{-webkit-transform:rotate(135deg)}25%{-webkit-transform:rotate(270deg)}37.5%{-webkit-transform:rotate(405deg)}50%{-webkit-transform:rotate(540deg)}62.5%{-webkit-transform:rotate(675deg)}75%{-webkit-transform:rotate(810deg)}87.5%{-webkit-transform:rotate(945deg)}to{-webkit-transform:rotate(3turn)}}@keyframes fill-unfill-rotate{12.5%{-webkit-transform:rotate(135deg);transform:rotate(135deg)}25%{-webkit-transform:rotate(270deg);transform:rotate(270deg)}37.5%{-webkit-transform:rotate(405deg);transform:rotate(405deg)}50%{-webkit-transform:rotate(540deg);transform:rotate(540deg)}62.5%{-webkit-transform:rotate(675deg);transform:rotate(675deg)}75%{-webkit-transform:rotate(810deg);transform:rotate(810deg)}87.5%{-webkit-transform:rotate(945deg);transform:rotate(945deg)}to{-webkit-transform:rotate(3turn);transform:rotate(3turn)}}@-webkit-keyframes blue-fade-in-out{from{opacity:1}25%{opacity:1}26%{opacity:0}89%{opacity:0}90%{opacity:1}100%{opacity:1}}@keyframes blue-fade-in-out{from{opacity:1}25%{opacity:1}26%{opacity:0}89%{opacity:0}90%{opacity:1}100%{opacity:1}}@-webkit-keyframes red-fade-in-out{from{opacity:0}15%{opacity:0}25%{opacity:1}50%{opacity:1}51%{opacity:0}}@keyframes red-fade-in-out{from{opacity:0}15%{opacity:0}25%{opacity:1}50%{opacity:1}51%{opacity:0}}@-webkit-keyframes yellow-fade-in-out{from{opacity:0}40%{opacity:0}50%{opacity:1}75%{opacity:1}76%{opacity:0}}@keyframes yellow-fade-in-out{from{opacity:0}40%{opacity:0}50%{opacity:1}75%{opacity:1}76%{opacity:0}}@-webkit-keyframes green-fade-in-out{from{opacity:0}65%{opacity:0}75%{opacity:1}90%{opacity:1}100%{opacity:0}}@keyframes green-fade-in-out{from{opacity:0}65%{opacity:0}75%{opacity:1}90%{opacity:1}100%{opacity:0}}.spinner-gap-patch{position:absolute;-webkit-box-sizing:border-box;box-sizing:border-box;top:0;left:45%;width:10%;height:100%;overflow:hidden;border-color:inherit}.spinner-gap-patch .spinner-circle{width:1000%;left:-450%}.spinner-circle-clipper{display:inline-block;position:relative;width:50%;height:100%;overflow:hidden;border-color:inherit}.spinner-circle-clipper .spinner-circle{width:200%}.spinner-circle{-webkit-box-sizing:border-box;box-sizing:border-box;height:100%;border-width:3px;border-style:solid;border-color:inherit;border-bottom-color:transparent!important;border-radius:50%;-webkit-animation:none;animation:none}.spinner-circle-clipper.spinner-left .spinner-circle{border-right-color:transparent!important;-webkit-transform:rotate(129deg);-ms-transform:rotate(129deg);transform:rotate(129deg)}.spinner-circle-clipper.spinner-right .spinner-circle{left:-100%;border-left-color:transparent!important;-webkit-transform:rotate(-129deg);-ms-transform:rotate(-129deg);transform:rotate(-129deg)}.active .spinner-circle-clipper.spinner-left .spinner-circle{-webkit-animation:left-spin 1333ms cubic-bezier(.4,0,.2,1) infinite both;animation:left-spin 1333ms cubic-bezier(.4,0,.2,1) infinite both}.active .spinner-circle-clipper.spinner-right .spinner-circle{-webkit-animation:right-spin 1333ms cubic-bezier(.4,0,.2,1) infinite both;animation:right-spin 1333ms cubic-bezier(.4,0,.2,1) infinite both}@-webkit-keyframes left-spin{from{-webkit-transform:rotate(130deg)}50%{-webkit-transform:rotate(-5deg)}to{-webkit-transform:rotate(130deg)}}@keyframes left-spin{from{-webkit-transform:rotate(130deg);transform:rotate(130deg)}50%{-webkit-transform:rotate(-5deg);transform:rotate(-5deg)}to{-webkit-transform:rotate(130deg);transform:rotate(130deg)}}@-webkit-keyframes right-spin{from{-webkit-transform:rotate(-130deg)}50%{-webkit-transform:rotate(5deg)}to{-webkit-transform:rotate(-130deg)}}@keyframes right-spin{from{-webkit-transform:rotate(-130deg);transform:rotate(-130deg)}50%{-webkit-transform:rotate(5deg);transform:rotate(5deg)}to{-webkit-transform:rotate(-130deg);transform:rotate(-130deg)}}.spinner-fit{position:absolute;top:0;bottom:0;right:0;left:0}sentinel{}</style><script nonce=\"qC9-JlXSkt5GPjWtb5BPgA\">function waitForConversion() {var req = new XMLHttpRequest(); if (!req) return; req.open('GET', 'https:\\/\\/docs.google.com\\/spreadsheets\\/d\\/1Nbcmn7IXQP2h9n4ce7Rb8fe0JODpWzMM\\/loadingconvert?rtpof\\x3dtrue\\x26usp\\x3ddrive_link', true); req.setRequestHeader('Content-Type', 'application/json'); req.onreadystatechange = function() {if (req.readyState == XMLHttpRequest.DONE) {if (req.status == 200) {window.location.reload();} else if (req.status >= 400 && req.status < 600) {if( true ) {window.location = 'https:\\/\\/drive.google.com\\/file\\/d\\/1Nbcmn7IXQP2h9n4ce7Rb8fe0JODpWzMM\\/view?usp\\x3ddrive_link';} else {document.write(req.responseText);}}}}; req.send(false);}waitForConversion();</script></head><body><div align=\"center\"><div class=\"docs-loading-screen-icon docs-homescreen-icon\"><div class=\"docs-homescreen-img docs-homescreen-2020q4-nav-sheets-24\"></div></div><div class=\"docs-loading-screen-spinner\"><div class=\"docs-spinner\" dir=\"ltr\"><div class=\"docs-quantum-spinner active\"><div class=\"spinner-layer spinner-blue\"><div class=\"spinner-circle-clipper spinner-left\"><div class=\"spinner-circle spinner-fit\"></div></div><div class=\"spinner-gap-patch\"><div class=\"spinner-circle spinner-fit\"></div></div><div class=\"spinner-circle-clipper spinner-right\"><div class=\"spinner-circle spinner-fit\"></div></div></div><div class=\"spinner-layer spinner-red\"><div class=\"spinner-circle-clipper spinner-left\"><div class=\"spinner-circle spinner-fit\"></div></div><div class=\"spinner-gap-patch\"><div class=\"spinner-circle spinner-fit\"></div></div><div class=\"spinner-circle-clipper spinner-right\"><div class=\"spinner-circle spinner-fit\"></div></div></div><div class=\"spinner-layer spinner-yellow\"><div class=\"spinner-circle-clipper spinner-left\"><div class=\"spinner-circle spinner-fit\"></div></div><div class=\"spinner-gap-patch\"><div class=\"spinner-circle spinner-fit\"></div></div><div class=\"spinner-circle-clipper spinner-right\"><div class=\"spinner-circle spinner-fit\"></div></div></div><div class=\"spinner-layer spinner-green\"><div class=\"spinner-circle-clipper spinner-left\"><div class=\"spinner-circle spinner-fit\"></div></div><div class=\"spinner-gap-patch\"><div class=\"spinner-circle spinner-fit\"></div></div><div class=\"spinner-circle-clipper spinner-right\"><div class=\"spinner-circle spinner-fit\"></div></div></div></div></div></div><div class=\"docs-loading-screen-msg\"> Opening \"Book1.xlsx\" in Google Sheets. <br> This could take a few moments. </div></div></body></html>\n",
            "<!DOCTYPE html><html><head><title>Loading Google Sheets</title><meta name=\"referrer\" content=\"origin\"><style nonce=\"OfwSiPV4Ck0g8RDZfxVv6g\">.docs-loading-screen-icon{border:none;height:24px;margin-top:100px;width:24px;-webkit-transform-origin:center top;-ms-transform-origin:center top;transform-origin:center top;-webkit-transform:scale(4);-ms-transform:scale(4);transform:scale(4)}.docs-loading-screen-msg{font-family:Google Sans;font-size:16px;line-height:24px;text-align:center;letter-spacing:.1px;color:#3c4043}.docs-loading-screen-spinner{margin-top:90px}#apps-debug-tracers{display:none}.docs-homescreen-icon{direction:ltr;text-align:left;overflow:hidden;position:relative;vertical-align:middle}.docs-homescreen-img:before{content:url(https://ssl.gstatic.com/docs/common/h_sprite60_grey_medium.svg)}.docs-homescreen-img{height:2025px;position:absolute;width:78px}.docs-homescreen-add-white-24{left:-52px;top:-1921px}.docs-homescreen-check-18{left:-26px;top:-1869px}.docs-homescreen-comments-black-24{left:-26px;top:-1921px}.docs-homescreen-dropdown-arrow-black-18{left:-26px;top:-230px}.docs-homescreen-dropdown-arrow-24{left:-46px;top:-1869px}.docs-homescreen-dropdown-arrow-grey700-24{left:0;top:-535px}.docs-homescreen-dropdown-arrow-white-24{left:-26px;top:-747px}.docs-homescreen-expand-more-white-24{left:-52px;top:-1047px}.docs-homescreen-expand-more-24{left:0;top:-1869px}.docs-homescreen-flix-24{left:0;top:-1685px}.docs-homescreen-team-drive-20{left:-22px;top:-39px}.docs-homescreen-team-drive-outline-20{left:0;top:-1569px}.docs-homescreen-team-drive-black-24{left:-52px;top:-1617px}.docs-homescreen-team-drive-anonymous-20{left:0;top:-973px}.docs-homescreen-team-drive-anonymous-24{left:-48px;top:-1465px}.docs-homescreen-team-drive-key-icon-20{left:-52px;top:-1207px}.docs-homescreen-team-drive-key-icon-24{left:0;top:-1947px}.docs-homescreen-fab-googlecolors-24{left:-42px;top:-825px}.docs-homescreen-feedback-black-24{left:-26px;top:-635px}.docs-homescreen-file-upload-18{left:-26px;top:-272px}.docs-homescreen-folder-black-24{left:-52px;top:-1181px}.docs-homescreen-folder-white-24{left:0;top:-1229px}.docs-homescreen-folder-outline-24{left:0;top:-1491px}.docs-homescreen-gear-24{left:-26px;top:-1973px}.docs-homescreen-grid-view-24{left:0;top:-204px}.docs-homescreen-grid-view-black-24{left:0;top:-739px}.docs-homescreen-grid-view-white-24{left:-26px;top:-1517px}.docs-homescreen-help-outline-24{left:-52px;top:-587px}.docs-homescreen-item-overflow-24{left:0;top:-687px}.docs-homescreen-list-view-24{left:-48px;top:-1439px}.docs-homescreen-list-view-black-24{left:0;top:-87px}.docs-homescreen-list-view-white-24{left:-52px;top:-1413px}.docs-homescreen-magnifying-glass-24{left:-16px;top:-61px}.docs-homescreen-menu-black-24{left:0;top:-1617px}.docs-homescreen-menu-white-24{left:0;top:-256px}.docs-homescreen-2020q4-nav-docs-24{left:0;top:-1843px}.docs-homescreen-2020q4-nav-drive-24{left:-52px;top:-1517px}.docs-homescreen-2020q4-nav-forms-24{left:-52px;top:-613px}.docs-homescreen-2020q4-nav-sheets-24{left:0;top:-561px}.docs-homescreen-2020q4-nav-sites-24{left:-46px;top:-139px}.docs-homescreen-2020q4-nav-slides-24{left:-52px;top:-1843px}.docs-homescreen-2020q4-nav-mail-layouts-24{left:-52px;top:-1155px}.docs-homescreen-nav-flix-24{left:-26px;top:-799px}.docs-homescreen-nav-docs-24{left:-52px;top:-747px}.docs-homescreen-nav-drive-24{left:0;top:-587px}.docs-homescreen-nav-forms-24{left:0;top:-1413px}.docs-homescreen-nav-help-24{left:0;top:-661px}.docs-homescreen-nav-settings-24{left:-52px;top:-1947px}.docs-homescreen-nav-sheets-24{left:0;top:-1895px}.docs-homescreen-nav-sites-24{left:0;top:-230px}.docs-homescreen-nav-classic-sites-24{left:-26px;top:-1617px}.docs-homescreen-nav-classic-sites-32{left:-26px;top:-713px}.docs-homescreen-nav-slides-24{left:0;top:-635px}.docs-homescreen-people-20{left:0;top:-613px}.docs-homescreen-shared-black-24{left:-26px;top:-1895px}.docs-homescreen-sort-black-24{left:-26px;top:-609px}.docs-homescreen-sort-white-24{left:-48px;top:-1021px}.docs-homescreen-sort-roboto-24{left:0;top:-1999px}.docs-homescreen-sort-roboto-white-24{left:0;top:-1973px}.docs-homescreen-suggestions-black-24{left:0;top:-1591px}.docs-homescreen-template-24{left:-26px;top:-1047px}.docs-homescreen-todos-black-24{left:-42px;top:-61px}.docs-homescreen-sites-24{left:-52px;top:-773px}.docs-homescreen-mail-layouts-24{left:-26px;top:-687px}.docs-homescreen-docs-normal-30-37{left:0;top:-825px}.docs-homescreen-docs-hover-30-37{left:-46px;top:-298px}.docs-homescreen-forms-normal-30-37{left:-32px;top:0}.docs-homescreen-forms-hover-30-37{left:0;top:-1737px}.docs-homescreen-sheets-normal-30-37{left:0;top:-1643px}.docs-homescreen-sheets-hover-30-37{left:-46px;top:-165px}.docs-homescreen-slides-normal-30-37{left:0;top:-292px}.docs-homescreen-slides-hover-30-37{left:-46px;top:-243px}.docs-homescreen-sheets-14{left:0;top:-61px}.docs-homescreen-sheets-24{left:-26px;top:-1947px}.docs-homescreen-sheets-encrypted-24{left:-26px;top:-583px}.docs-homescreen-sheets-encrypted-64-65{left:0;top:-1776px}.docs-homescreen-slides-14{left:-46px;top:-282px}.docs-homescreen-slides-24{left:-26px;top:-1413px}.docs-homescreen-slides-encrypted-24{left:0;top:-1921px}.docs-homescreen-slides-encrypted-64-65{left:0;top:-468px}.docs-homescreen-docs-14{left:-32px;top:-1737px}.docs-homescreen-docs-24{left:0;top:-429px}.docs-homescreen-docs-encrypted-24{left:-22px;top:-1021px}.docs-homescreen-docs-encrypted-64-65{left:0;top:-906px}.docs-homescreen-forms-14{left:0;top:-1439px}.docs-homescreen-forms-24{left:-26px;top:-87px}.docs-homescreen-sites-14{left:-48px;top:-1737px}.docs-homescreen-android-logo-40{left:0;top:-864px}.docs-homescreen-apple-logo-40{left:-32px;top:-1643px}.docs-homescreen-close-24{left:-52px;top:-1973px}.docs-homescreen-close-black-20{left:-44px;top:-39px}.docs-homescreen-placeholder-sheets-64{left:0;top:-1347px}.docs-homescreen-placeholder-slides-64{left:0;top:-337px}.docs-homescreen-placeholder-docs-64{left:0;top:-1281px}.docs-homescreen-placeholder-forms-64{left:0;top:-1073px}.docs-homescreen-nav-open-add-24{left:-52px;top:-1685px}.docs-homescreen-remove-24{left:0;top:-1155px}.docs-homescreen-rename-24{left:0;top:-995px}.docs-homescreen-share-24{left:-26px;top:-1843px}.docs-homescreen-word-normal-30-37{left:-16px;top:-1439px}.docs-homescreen-word-hover-30-37{left:-46px;top:-204px}.docs-homescreen-word-14{left:-26px;top:-1229px}.docs-homescreen-word-24{left:-52px;top:-639px}.docs-homescreen-powerpoint-normal-30-37{left:-42px;top:-851px}.docs-homescreen-powerpoint-hover-30-37{left:0;top:0}.docs-homescreen-powerpoint-14{left:-26px;top:-256px}.docs-homescreen-powerpoint-24{left:-52px;top:-1591px}.docs-homescreen-excel-normal-30-37{left:-26px;top:-429px}.docs-homescreen-excel-hover-30-37{left:0;top:-139px}.docs-homescreen-excel-14{left:0;top:-1139px}.docs-homescreen-excel-24{left:0;top:-799px}.docs-homescreen-sync-24{left:-26px;top:-661px}.docs-homescreen-sync-white-24{left:0;top:-1255px}.docs-homescreen-back-24{left:0;top:-178px}.docs-homescreen-back-black-24{left:-26px;top:-1491px}.docs-homescreen-back-grey700-24{left:-26px;top:-995px}.docs-homescreen-unfold-more-24{left:-52px;top:-799px}.docs-homescreen-unfold-more-gm-24{left:-42px;top:-1229px}.docs-homescreen-pin-offline-20{left:0;top:-39px}.docs-homescreen-pin-offline-black-24{left:-52px;top:-561px}.docs-homescreen-pin-offline-blue-24{left:-26px;top:-535px}.docs-homescreen-pin-sync-problem-20{left:0;top:-1021px}.docs-homescreen-pin-sync-problem-24{left:-26px;top:-773px}.docs-homescreen-pin-sync-20{left:-26px;top:-561px}.docs-homescreen-pin-sync-black-24{left:-48px;top:-1543px}.docs-homescreen-publish-24{left:0;top:-113px}.docs-homescreen-publish-white-24{left:-26px;top:-1255px}.docs-homescreen-item-overflow-white-24{left:-26px;top:-1711px}.docs-homescreen-edit-pencil-24{left:0;top:-1047px}.docs-homescreen-edit-pencil-outline-24{left:-26px;top:-1181px}.docs-homescreen-info-black-24{left:0;top:-1711px}.docs-homescreen-delete-outline-24{left:-26px;top:-1685px}.docs-homescreen-info-outline-24{left:-46px;top:-113px}.docs-homescreen-popout-outline-24{left:0;top:-713px}.docs-homescreen-rename-gm-24{left:-26px;top:-1155px}.docs-homescreen-pin-offline-outline-20{left:-26px;top:-1543px}.docs-homescreen-pin-offline-outline-24{left:-52px;top:-1491px}.docs-homescreen-nav-google-logo{left:0;top:-403px}.docs-spinner{height:44px;overflow:hidden;position:relative}.docs-quantum-spinner{height:28px;left:50%;margin-left:-14px;position:absolute;top:0;width:28px}.docs-loading-indicator-small .docs-quantum-spinner{height:20px;margin-left:-10px;top:0;width:20px}.docs-white-circle{background:white;border-radius:50%;box-shadow:0 2px 6px rgba(0,0,0,.4);-moz-box-shadow:0 2px 6px rgba(0,0,0,.4);-webkit-box-shadow:0 2px 6px rgba(0,0,0,.4);height:44px;left:50%;margin-left:-22px;position:absolute;width:44px}.docs-quantum-spinner.active{-webkit-animation:container-rotate 1568ms linear infinite;animation:container-rotate 1568ms linear infinite}@-webkit-keyframes container-rotate{to{-webkit-transform:rotate(1turn)}}@keyframes container-rotate{to{-webkit-transform:rotate(1turn);transform:rotate(1turn)}}.spinner-layer{position:absolute;width:100%;height:100%;opacity:0}.spinner-blue{border-color:#4285f4}.spinner-red{border-color:#db4437}.spinner-yellow{border-color:#f4b400}.spinner-green{border-color:#0f9d58}.active .spinner-layer.spinner-blue{-webkit-animation:fill-unfill-rotate 5332ms cubic-bezier(.4,0,.2,1) infinite both,blue-fade-in-out 5332ms cubic-bezier(.4,0,.2,1) infinite both;animation:fill-unfill-rotate 5332ms cubic-bezier(.4,0,.2,1) infinite both,blue-fade-in-out 5332ms cubic-bezier(.4,0,.2,1) infinite both}.active .spinner-layer.spinner-red{-webkit-animation:fill-unfill-rotate 5332ms cubic-bezier(.4,0,.2,1) infinite both,red-fade-in-out 5332ms cubic-bezier(.4,0,.2,1) infinite both;animation:fill-unfill-rotate 5332ms cubic-bezier(.4,0,.2,1) infinite both,red-fade-in-out 5332ms cubic-bezier(.4,0,.2,1) infinite both}.active .spinner-layer.spinner-yellow{-webkit-animation:fill-unfill-rotate 5332ms cubic-bezier(.4,0,.2,1) infinite both,yellow-fade-in-out 5332ms cubic-bezier(.4,0,.2,1) infinite both;animation:fill-unfill-rotate 5332ms cubic-bezier(.4,0,.2,1) infinite both,yellow-fade-in-out 5332ms cubic-bezier(.4,0,.2,1) infinite both}.active .spinner-layer.spinner-green{-webkit-animation:fill-unfill-rotate 5332ms cubic-bezier(.4,0,.2,1) infinite both,green-fade-in-out 5332ms cubic-bezier(.4,0,.2,1) infinite both;animation:fill-unfill-rotate 5332ms cubic-bezier(.4,0,.2,1) infinite both,green-fade-in-out 5332ms cubic-bezier(.4,0,.2,1) infinite both}@-webkit-keyframes fill-unfill-rotate{12.5%{-webkit-transform:rotate(135deg)}25%{-webkit-transform:rotate(270deg)}37.5%{-webkit-transform:rotate(405deg)}50%{-webkit-transform:rotate(540deg)}62.5%{-webkit-transform:rotate(675deg)}75%{-webkit-transform:rotate(810deg)}87.5%{-webkit-transform:rotate(945deg)}to{-webkit-transform:rotate(3turn)}}@keyframes fill-unfill-rotate{12.5%{-webkit-transform:rotate(135deg);transform:rotate(135deg)}25%{-webkit-transform:rotate(270deg);transform:rotate(270deg)}37.5%{-webkit-transform:rotate(405deg);transform:rotate(405deg)}50%{-webkit-transform:rotate(540deg);transform:rotate(540deg)}62.5%{-webkit-transform:rotate(675deg);transform:rotate(675deg)}75%{-webkit-transform:rotate(810deg);transform:rotate(810deg)}87.5%{-webkit-transform:rotate(945deg);transform:rotate(945deg)}to{-webkit-transform:rotate(3turn);transform:rotate(3turn)}}@-webkit-keyframes blue-fade-in-out{from{opacity:1}25%{opacity:1}26%{opacity:0}89%{opacity:0}90%{opacity:1}100%{opacity:1}}@keyframes blue-fade-in-out{from{opacity:1}25%{opacity:1}26%{opacity:0}89%{opacity:0}90%{opacity:1}100%{opacity:1}}@-webkit-keyframes red-fade-in-out{from{opacity:0}15%{opacity:0}25%{opacity:1}50%{opacity:1}51%{opacity:0}}@keyframes red-fade-in-out{from{opacity:0}15%{opacity:0}25%{opacity:1}50%{opacity:1}51%{opacity:0}}@-webkit-keyframes yellow-fade-in-out{from{opacity:0}40%{opacity:0}50%{opacity:1}75%{opacity:1}76%{opacity:0}}@keyframes yellow-fade-in-out{from{opacity:0}40%{opacity:0}50%{opacity:1}75%{opacity:1}76%{opacity:0}}@-webkit-keyframes green-fade-in-out{from{opacity:0}65%{opacity:0}75%{opacity:1}90%{opacity:1}100%{opacity:0}}@keyframes green-fade-in-out{from{opacity:0}65%{opacity:0}75%{opacity:1}90%{opacity:1}100%{opacity:0}}.spinner-gap-patch{position:absolute;-webkit-box-sizing:border-box;box-sizing:border-box;top:0;left:45%;width:10%;height:100%;overflow:hidden;border-color:inherit}.spinner-gap-patch .spinner-circle{width:1000%;left:-450%}.spinner-circle-clipper{display:inline-block;position:relative;width:50%;height:100%;overflow:hidden;border-color:inherit}.spinner-circle-clipper .spinner-circle{width:200%}.spinner-circle{-webkit-box-sizing:border-box;box-sizing:border-box;height:100%;border-width:3px;border-style:solid;border-color:inherit;border-bottom-color:transparent!important;border-radius:50%;-webkit-animation:none;animation:none}.spinner-circle-clipper.spinner-left .spinner-circle{border-right-color:transparent!important;-webkit-transform:rotate(129deg);-ms-transform:rotate(129deg);transform:rotate(129deg)}.spinner-circle-clipper.spinner-right .spinner-circle{left:-100%;border-left-color:transparent!important;-webkit-transform:rotate(-129deg);-ms-transform:rotate(-129deg);transform:rotate(-129deg)}.active .spinner-circle-clipper.spinner-left .spinner-circle{-webkit-animation:left-spin 1333ms cubic-bezier(.4,0,.2,1) infinite both;animation:left-spin 1333ms cubic-bezier(.4,0,.2,1) infinite both}.active .spinner-circle-clipper.spinner-right .spinner-circle{-webkit-animation:right-spin 1333ms cubic-bezier(.4,0,.2,1) infinite both;animation:right-spin 1333ms cubic-bezier(.4,0,.2,1) infinite both}@-webkit-keyframes left-spin{from{-webkit-transform:rotate(130deg)}50%{-webkit-transform:rotate(-5deg)}to{-webkit-transform:rotate(130deg)}}@keyframes left-spin{from{-webkit-transform:rotate(130deg);transform:rotate(130deg)}50%{-webkit-transform:rotate(-5deg);transform:rotate(-5deg)}to{-webkit-transform:rotate(130deg);transform:rotate(130deg)}}@-webkit-keyframes right-spin{from{-webkit-transform:rotate(-130deg)}50%{-webkit-transform:rotate(5deg)}to{-webkit-transform:rotate(-130deg)}}@keyframes right-spin{from{-webkit-transform:rotate(-130deg);transform:rotate(-130deg)}50%{-webkit-transform:rotate(5deg);transform:rotate(5deg)}to{-webkit-transform:rotate(-130deg);transform:rotate(-130deg)}}.spinner-fit{position:absolute;top:0;bottom:0;right:0;left:0}sentinel{}</style><script nonce=\"7F681pdDtCZwDbtzXQVdmQ\">function waitForConversion() {var req = new XMLHttpRequest(); if (!req) return; req.open('GET', 'https:\\/\\/docs.google.com\\/spreadsheets\\/d\\/1Nbcmn7IXQP2h9n4ce7Rb8fe0JODpWzMM\\/loadingconvert?rtpof\\x3dtrue\\x26usp\\x3ddrive_link', true); req.setRequestHeader('Content-Type', 'application/json'); req.onreadystatechange = function() {if (req.readyState == XMLHttpRequest.DONE) {if (req.status == 200) {window.location.reload();} else if (req.status >= 400 && req.status < 600) {if( true ) {window.location = 'https:\\/\\/drive.google.com\\/file\\/d\\/1Nbcmn7IXQP2h9n4ce7Rb8fe0JODpWzMM\\/view?usp\\x3ddrive_link';} else {document.write(req.responseText);}}}}; req.send(false);}waitForConversion();</script></head><body><div align=\"center\"><div class=\"docs-loading-screen-icon docs-homescreen-icon\"><div class=\"docs-homescreen-img docs-homescreen-2020q4-nav-sheets-24\"></div></div><div class=\"docs-loading-screen-spinner\"><div class=\"docs-spinner\" dir=\"ltr\"><div class=\"docs-quantum-spinner active\"><div class=\"spinner-layer spinner-blue\"><div class=\"spinner-circle-clipper spinner-left\"><div class=\"spinner-circle spinner-fit\"></div></div><div class=\"spinner-gap-patch\"><div class=\"spinner-circle spinner-fit\"></div></div><div class=\"spinner-circle-clipper spinner-right\"><div class=\"spinner-circle spinner-fit\"></div></div></div><div class=\"spinner-layer spinner-red\"><div class=\"spinner-circle-clipper spinner-left\"><div class=\"spinner-circle spinner-fit\"></div></div><div class=\"spinner-gap-patch\"><div class=\"spinner-circle spinner-fit\"></div></div><div class=\"spinner-circle-clipper spinner-right\"><div class=\"spinner-circle spinner-fit\"></div></div></div><div class=\"spinner-layer spinner-yellow\"><div class=\"spinner-circle-clipper spinner-left\"><div class=\"spinner-circle spinner-fit\"></div></div><div class=\"spinner-gap-patch\"><div class=\"spinner-circle spinner-fit\"></div></div><div class=\"spinner-circle-clipper spinner-right\"><div class=\"spinner-circle spinner-fit\"></div></div></div><div class=\"spinner-layer spinner-green\"><div class=\"spinner-circle-clipper spinner-left\"><div class=\"spinner-circle spinner-fit\"></div></div><div class=\"spinner-gap-patch\"><div class=\"spinner-circle spinner-fit\"></div></div><div class=\"spinner-circle-clipper spinner-right\"><div class=\"spinner-circle spinner-fit\"></div></div></div></div></div></div><div class=\"docs-loading-screen-msg\"> Opening \"Book1.xlsx\" in Google Sheets. <br> This could take a few moments. </div></div></body></html>\n"
          ]
        }
      ]
    }
  ]
}