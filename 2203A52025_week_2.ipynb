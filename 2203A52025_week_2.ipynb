{
  "nbformat": 4,
  "nbformat_minor": 0,
  "metadata": {
    "colab": {
      "provenance": []
    },
    "kernelspec": {
      "name": "python3",
      "display_name": "Python 3"
    },
    "language_info": {
      "name": "python"
    }
  },
  "cells": [
    {
      "cell_type": "markdown",
      "source": [
        "\n",
        "**BFS**"
      ],
      "metadata": {
        "id": "5agMpGOdUo8w"
      }
    },
    {
      "cell_type": "code",
      "source": [
        "from collections import deque\n",
        "\n",
        "def bfs(graph, start):\n",
        "    visited = set()\n",
        "    queue = deque([start])\n",
        "\n",
        "    while queue:\n",
        "        vertex = queue.popleft()\n",
        "\n",
        "        if vertex not in visited:\n",
        "            print(vertex, end=' ' )\n",
        "            visited.add(vertex)\n",
        "\n",
        "\n",
        "            queue.extend(neighbor for neighbor in graph[vertex] if neighbor not in visited)\n",
        "\n",
        "\n",
        "graph = {\n",
        "    0: [1, 3],\n",
        "    1: [0, 2, 3],\n",
        "    2: [1, 4, 5],\n",
        "    3: [0, 1, 4],\n",
        "    4: [2, 3, 5],\n",
        "    5: [2, 4]\n",
        "    }\n",
        "start_vertex = 0\n",
        "\n",
        "print(\"BFS traversal starting from vertex\", start_vertex, \":\")\n",
        "bfs(graph, start_vertex)"
      ],
      "metadata": {
        "colab": {
          "base_uri": "https://localhost:8080/"
        },
        "id": "1QY_8aPzT4RX",
        "outputId": "b16cee90-5c6a-4f1e-80ce-aa149949401a"
      },
      "execution_count": null,
      "outputs": [
        {
          "output_type": "stream",
          "name": "stdout",
          "text": [
            "BFS traversal starting from vertex 0 :\n",
            "0 1 3 2 4 5 "
          ]
        }
      ]
    },
    {
      "cell_type": "markdown",
      "source": [
        "**DFS**"
      ],
      "metadata": {
        "id": "MI2AGk5KXd9q"
      }
    },
    {
      "cell_type": "code",
      "source": [
        "def dfs(graph, start):\n",
        "    visited = set()\n",
        "    stack = [start]\n",
        "\n",
        "    while stack:\n",
        "        vertex = stack.pop()\n",
        "\n",
        "        if vertex not in visited:\n",
        "            print(vertex, end=' ')\n",
        "            visited.add(vertex)\n",
        "\n",
        "\n",
        "            stack.extend(neighbor for neighbor in graph[vertex] if neighbor not in visited)\n",
        "graph = {\n",
        "    'A': ['B', 'S'],\n",
        "    'B': ['A'],\n",
        "    'C': ['D', 'E', 'F', 'S'],\n",
        "    'D': ['C'],\n",
        "    'E': ['C', 'H'],\n",
        "    'F': ['C', 'G'],\n",
        "    'G': ['F', 'H', 'S'],\n",
        "    'H': ['E', 'G'],\n",
        "    'S': ['A', 'C', 'G']\n",
        "    }\n",
        "start_vertex = 'A'\n",
        "\n",
        "print(\"DFS traversal starting from vertex\", start_vertex, \":\")\n",
        "dfs(graph, start_vertex)"
      ],
      "metadata": {
        "colab": {
          "base_uri": "https://localhost:8080/"
        },
        "id": "NfPBjM_mUlNz",
        "outputId": "140d9304-c5a5-47f4-f6dd-5afae60c4b05"
      },
      "execution_count": null,
      "outputs": [
        {
          "output_type": "stream",
          "name": "stdout",
          "text": [
            "DFS traversal starting from vertex A :\n",
            "A S G H E C F D B "
          ]
        }
      ]
    },
    {
      "cell_type": "markdown",
      "source": [
        "**A***"
      ],
      "metadata": {
        "id": "9yrgeT23adzk"
      }
    },
    {
      "cell_type": "code",
      "source": [],
      "metadata": {
        "colab": {
          "base_uri": "https://localhost:8080/",
          "height": 366
        },
        "id": "ph-rSnawebfK",
        "outputId": "e123a264-76a1-425b-dbe8-dfadec35b4dc"
      },
      "execution_count": 6,
      "outputs": [
        {
          "output_type": "error",
          "ename": "TypeError",
          "evalue": "Node() takes no arguments",
          "traceback": [
            "\u001b[0;31m---------------------------------------------------------------------------\u001b[0m",
            "\u001b[0;31mTypeError\u001b[0m                                 Traceback (most recent call last)",
            "\u001b[0;32m<ipython-input-6-4a6fbc4ac5d2>\u001b[0m in \u001b[0;36m<cell line: 71>\u001b[0;34m()\u001b[0m\n\u001b[1;32m     69\u001b[0m \u001b[0mend\u001b[0m \u001b[0;34m=\u001b[0m \u001b[0;34m(\u001b[0m\u001b[0;36m4\u001b[0m\u001b[0;34m,\u001b[0m \u001b[0;36m4\u001b[0m\u001b[0;34m)\u001b[0m\u001b[0;34m\u001b[0m\u001b[0;34m\u001b[0m\u001b[0m\n\u001b[1;32m     70\u001b[0m \u001b[0;34m\u001b[0m\u001b[0m\n\u001b[0;32m---> 71\u001b[0;31m \u001b[0mpath\u001b[0m \u001b[0;34m=\u001b[0m \u001b[0mastar\u001b[0m\u001b[0;34m(\u001b[0m\u001b[0mgrid\u001b[0m\u001b[0;34m,\u001b[0m \u001b[0mstart\u001b[0m\u001b[0;34m,\u001b[0m \u001b[0mend\u001b[0m\u001b[0;34m)\u001b[0m\u001b[0;34m\u001b[0m\u001b[0;34m\u001b[0m\u001b[0m\n\u001b[0m\u001b[1;32m     72\u001b[0m \u001b[0;32mif\u001b[0m \u001b[0mpath\u001b[0m\u001b[0;34m:\u001b[0m\u001b[0;34m\u001b[0m\u001b[0;34m\u001b[0m\u001b[0m\n\u001b[1;32m     73\u001b[0m     \u001b[0mprint\u001b[0m\u001b[0;34m(\u001b[0m\u001b[0;34m\"Path found:\"\u001b[0m\u001b[0;34m,\u001b[0m \u001b[0mpath\u001b[0m\u001b[0;34m)\u001b[0m\u001b[0;34m\u001b[0m\u001b[0;34m\u001b[0m\u001b[0m\n",
            "\u001b[0;32m<ipython-input-6-4a6fbc4ac5d2>\u001b[0m in \u001b[0;36mastar\u001b[0;34m(grid, start, end)\u001b[0m\n\u001b[1;32m     19\u001b[0m     \u001b[0mclosed_set\u001b[0m \u001b[0;34m=\u001b[0m \u001b[0mset\u001b[0m\u001b[0;34m(\u001b[0m\u001b[0;34m)\u001b[0m\u001b[0;34m\u001b[0m\u001b[0;34m\u001b[0m\u001b[0m\n\u001b[1;32m     20\u001b[0m \u001b[0;34m\u001b[0m\u001b[0m\n\u001b[0;32m---> 21\u001b[0;31m     \u001b[0mstart_node\u001b[0m \u001b[0;34m=\u001b[0m \u001b[0mNode\u001b[0m\u001b[0;34m(\u001b[0m\u001b[0;34m*\u001b[0m\u001b[0mstart\u001b[0m\u001b[0;34m)\u001b[0m\u001b[0;34m\u001b[0m\u001b[0;34m\u001b[0m\u001b[0m\n\u001b[0m\u001b[1;32m     22\u001b[0m     \u001b[0mstart_node\u001b[0m\u001b[0;34m.\u001b[0m\u001b[0mg\u001b[0m \u001b[0;34m=\u001b[0m \u001b[0mstart_node\u001b[0m\u001b[0;34m.\u001b[0m\u001b[0mh\u001b[0m \u001b[0;34m=\u001b[0m \u001b[0mstart_node\u001b[0m\u001b[0;34m.\u001b[0m\u001b[0mf\u001b[0m \u001b[0;34m=\u001b[0m \u001b[0;36m0\u001b[0m\u001b[0;34m\u001b[0m\u001b[0;34m\u001b[0m\u001b[0m\n\u001b[1;32m     23\u001b[0m     \u001b[0mend_node\u001b[0m \u001b[0;34m=\u001b[0m \u001b[0mNode\u001b[0m\u001b[0;34m(\u001b[0m\u001b[0;34m*\u001b[0m\u001b[0mend\u001b[0m\u001b[0;34m)\u001b[0m\u001b[0;34m\u001b[0m\u001b[0;34m\u001b[0m\u001b[0m\n",
            "\u001b[0;31mTypeError\u001b[0m: Node() takes no arguments"
          ]
        }
      ]
    },
    {
      "cell_type": "code",
      "source": [
        "\n",
        "import heapq\n",
        "\n",
        "class Node:\n",
        "    def __init__(self, row, col, obstacle=False):\n",
        "        self.row = row\n",
        "        self.col = col\n",
        "        self.obstacle = obstacle\n",
        "        self.g = float('inf')  # distance from start node\n",
        "        self.h = 0  # heuristic distance to goal node\n",
        "        self.f = float('inf')  # total cost\n",
        "        self.parent = None\n",
        "\n",
        "    def __lt__(self, other):\n",
        "        return self.f < other.f\n",
        "\n",
        "def astar(grid, start, end):\n",
        "    rows, cols = len(grid), len(grid[0])\n",
        "    open_set = []\n",
        "    closed_set = set()\n",
        "\n",
        "    start_node = Node(*start)\n",
        "    start_node.g = start_node.h = start_node.f = 0\n",
        "    end_node = Node(*end)\n",
        "\n",
        "    heapq.heappush(open_set, start_node)\n",
        "\n",
        "    while open_set:\n",
        "        current_node = heapq.heappop(open_set)\n",
        "\n",
        "        if current_node.row == end_node.row and current_node.col == end_node.col:\n",
        "            path = []\n",
        "            while current_node:\n",
        "                path.append((current_node.row, current_node.col))\n",
        "                current_node = current_node.parent\n",
        "            return path[::-1]\n",
        "\n",
        "        closed_set.add((current_node.row, current_node.col))\n",
        "\n",
        "        for dr, dc in [(1, 0), (-1, 0), (0, 1), (0, -1)]:\n",
        "            neighbor_row, neighbor_col = current_node.row + dr, current_node.col + dc\n",
        "\n",
        "            if neighbor_row < 0 or neighbor_row >= rows or neighbor_col < 0 or neighbor_col >= cols:\n",
        "                continue\n",
        "            if grid[neighbor_row][neighbor_col] == 1:  # obstacle\n",
        "                continue\n",
        "\n",
        "            neighbor = Node(neighbor_row, neighbor_col)\n",
        "            if (neighbor.row, neighbor.col) in closed_set:\n",
        "                continue\n",
        "\n",
        "            tentative_g_score = current_node.g + 1  # Assuming each step cost is 1\n",
        "            if tentative_g_score < neighbor.g:\n",
        "                neighbor.parent = current_node\n",
        "                neighbor.g = tentative_g_score\n",
        "                neighbor.h = abs(neighbor.row - end_node.row) + abs(neighbor.col - end_node.col)\n",
        "                neighbor.f = neighbor.g + neighbor.h\n",
        "                heapq.heappush(open_set, neighbor)\n",
        "\n",
        "    return None\n",
        "grid = [\n",
        "    [0, 0, 0, 0, 0],\n",
        "    [0, 1, 1, 1, 0],\n",
        "    [0, 0, 0, 0, 0],\n",
        "    [1, 1, 1, 1, 0],\n",
        "    [0, 0, 0, 0, 0]\n",
        "]\n",
        "\n",
        "start = (0, 0)\n",
        "end = (4, 4)\n",
        "\n",
        "path = astar(grid, start, end)\n",
        "if path:\n",
        "    print(\"Path found:\", path)\n",
        "else:\n",
        "    print(\"No path found\")\n"
      ],
      "metadata": {
        "colab": {
          "base_uri": "https://localhost:8080/"
        },
        "id": "z3W52mZicj7Z",
        "outputId": "bf74cec0-10b9-499d-eb42-81957adae0b3"
      },
      "execution_count": 7,
      "outputs": [
        {
          "output_type": "stream",
          "name": "stdout",
          "text": [
            "Path found: [(0, 0), (1, 0), (2, 0), (2, 1), (2, 2), (2, 3), (2, 4), (3, 4), (4, 4)]\n"
          ]
        }
      ]
    }
  ]
}